{
 "cells": [
  {
   "cell_type": "code",
   "execution_count": 1,
   "id": "f9549bfc",
   "metadata": {},
   "outputs": [],
   "source": [
    "import pandas as pd"
   ]
  },
  {
   "cell_type": "code",
   "execution_count": 2,
   "id": "c11bcee5",
   "metadata": {},
   "outputs": [],
   "source": [
    "import numpy as ny"
   ]
  },
  {
   "cell_type": "code",
   "execution_count": null,
   "id": "3c046f6d",
   "metadata": {},
   "outputs": [],
   "source": [
    "train"
   ]
  },
  {
   "cell_type": "code",
   "execution_count": null,
   "id": "b53a2d17",
   "metadata": {},
   "outputs": [],
   "source": [
    "survived = train['survived']"
   ]
  },
  {
   "cell_type": "code",
   "execution_count": null,
   "id": "a0ca1ec0",
   "metadata": {},
   "outputs": [],
   "source": [
    "import seaborn as sns\n",
    "import matplotlib.pyplot as plt"
   ]
  },
  {
   "cell_type": "code",
   "execution_count": null,
   "id": "52d6fef6",
   "metadata": {},
   "outputs": [],
   "source": [
    "sns.countplot(x='survived',data=train)"
   ]
  },
  {
   "cell_type": "code",
   "execution_count": null,
   "id": "165ad6be",
   "metadata": {},
   "outputs": [],
   "source": [
    "df_train['survived'].value_counts()"
   ]
  },
  {
   "cell_type": "code",
   "execution_count": null,
   "id": "133c926c",
   "metadata": {},
   "outputs": [],
   "source": [
    "print(f'Not survived %.{train[\"survived\"].value_counts()[0]/len(df_train)*100}%')\n",
    "print(f'survived %.{train[\"survived\"].value_counts()[1]/len(df_train)*100}%')"
   ]
  },
  {
   "cell_type": "code",
   "execution_count": null,
   "id": "abb2a56a",
   "metadata": {},
   "outputs": [],
   "source": [
    "sns.factorplot(x='survived',col='sex',data=df_train,kind='count')"
   ]
  },
  {
   "cell_type": "code",
   "execution_count": null,
   "id": "aee19fd3",
   "metadata": {},
   "outputs": [],
   "source": [
    "train.groupby(['sex'])['survived'].sum()"
   ]
  },
  {
   "cell_type": "code",
   "execution_count": null,
   "id": "f782c0c4",
   "metadata": {},
   "outputs": [],
   "source": [
    "print('Female survival rate :',(train.groupby(['sex'])['survived'].sum()[0])/(train[train['sex']=='female']['survived'].count())*100,'%')\n",
    "print('Male survival rate :',(train.groupby(['sex'])['survived'].sum()[1])/(train[train['sex']=='male']['survived'].count())*100,'%')"
   ]
  },
  {
   "cell_type": "code",
   "execution_count": null,
   "id": "4b711422",
   "metadata": {},
   "outputs": [],
   "source": [
    "train"
   ]
  },
  {
   "cell_type": "code",
   "execution_count": null,
   "id": "c8373a6d",
   "metadata": {},
   "outputs": [],
   "source": [
    "from collections import counter"
   ]
  },
  {
   "cell_type": "code",
   "execution_count": null,
   "id": "32b79556",
   "metadata": {},
   "outputs": [],
   "source": [
    "def detect_outlier(df,n,features):\n",
    "    outlier_indecies=[]\n",
    "    for col in features:\n",
    "        Q1 = np.percentile(df[col],25)\n",
    "        Q3 = np.percentile(df[col],75)\n",
    "        IQR = Q3 - Q1\n",
    "        \n",
    "        outlier_steps= 1.5*IQR\n",
    "        outlier_indices_col = df[(df[col] < Q1 - outlier_steps) | (df[col] > Q3 + outlier_steps)].index\n",
    "        outlier_indecies.extend(outlier_indices_col)\n",
    "        \n",
    "    outlier_indecies = counter(outlier_indecies)\n",
    "    multiple_outlier = list(k for k,v in outlier_indecies.items()if v>n)\n",
    "    return multiple_outlier"
   ]
  },
  {
   "cell_type": "code",
   "execution_count": null,
   "id": "17a53cc8",
   "metadata": {},
   "outputs": [],
   "source": [
    "outlier_to_drop = detect_outlier(train,2,['Age','Sibsp','Parch','Fare'])"
   ]
  },
  {
   "cell_type": "code",
   "execution_count": null,
   "id": "de67be42",
   "metadata": {},
   "outputs": [],
   "source": [
    "outlier_to_drop"
   ]
  },
  {
   "cell_type": "code",
   "execution_count": null,
   "id": "b9725514",
   "metadata": {},
   "outputs": [],
   "source": [
    "train.loc[outlier_to_drop].shape"
   ]
  },
  {
   "cell_type": "code",
   "execution_count": null,
   "id": "61711dcb",
   "metadata": {},
   "outputs": [],
   "source": [
    "train = train.drop(outlier_to_drop,axis=0)"
   ]
  },
  {
   "cell_type": "code",
   "execution_count": null,
   "id": "cf88cc58",
   "metadata": {},
   "outputs": [],
   "source": [
    "train.isnull().sum()"
   ]
  },
  {
   "cell_type": "code",
   "execution_count": null,
   "id": "cfd975a3",
   "metadata": {},
   "outputs": [],
   "source": [
    "train.fillna(np.nan,inplace=True)"
   ]
  },
  {
   "cell_type": "code",
   "execution_count": null,
   "id": "6829486c",
   "metadata": {},
   "outputs": [],
   "source": [
    "train.info()"
   ]
  },
  {
   "cell_type": "code",
   "execution_count": null,
   "id": "af14d9ff",
   "metadata": {},
   "outputs": [],
   "source": [
    "train.shape"
   ]
  },
  {
   "cell_type": "code",
   "execution_count": null,
   "id": "fb637def",
   "metadata": {},
   "outputs": [],
   "source": [
    "g = sns.heatmap(train[['survived','Sibsp','Parch','Age','Fare','Pclass']].corr().annot=True)"
   ]
  },
  {
   "cell_type": "code",
   "execution_count": null,
   "id": "fc6a9dad",
   "metadata": {},
   "outputs": [],
   "source": [
    "g = g.factorplot(x='Sibsp',y='survived',data=train,kind='bar',palette='muted')\n",
    "g = g.set_ylabels('survived')"
   ]
  },
  {
   "cell_type": "code",
   "execution_count": null,
   "id": "fea61277",
   "metadata": {},
   "outputs": [],
   "source": [
    "g = g.factorplot(x='Parch',y='survived',data=train,kind='bar',palette='muted')"
   ]
  },
  {
   "cell_type": "code",
   "execution_count": null,
   "id": "3d7c8e1b",
   "metadata": {},
   "outputs": [],
   "source": [
    "g = sns.FacetGrid(train.co='survived')\n",
    "g = g.map(sns.distplot,'Age')"
   ]
  },
  {
   "cell_type": "code",
   "execution_count": null,
   "id": "39db8ee6",
   "metadata": {},
   "outputs": [],
   "source": [
    "g = sns.displot(train['Fare'].coclor= 'm',label='skewness : %.2f'%(train['Fare'].skew()))\n",
    "g = g.legend()"
   ]
  },
  {
   "cell_type": "code",
   "execution_count": null,
   "id": "b49dda09",
   "metadata": {},
   "outputs": [],
   "source": [
    "train['Fare'] = train['Fare'].map(lambda x: np.log(x) if x>0 else 0)\n",
    "\n",
    "g = sns.displot(train['Fare'].coclor= 'm',label='skewness : %.2f'%(train['Fare'].skew()))\n",
    "g = g.legend()"
   ]
  },
  {
   "cell_type": "code",
   "execution_count": null,
   "id": "13ab50e5",
   "metadata": {},
   "outputs": [],
   "source": [
    "train['Embarked'].isnull().sum()\n",
    "['Embarked'].value_counts()"
   ]
  },
  {
   "cell_type": "code",
   "execution_count": null,
   "id": "45d29dfc",
   "metadata": {},
   "outputs": [],
   "source": [
    "g = sns.factorplot(x='Embarked',y='survived',data=train,kind='bar')"
   ]
  }
 ],
 "metadata": {
  "kernelspec": {
   "display_name": "Python 3 (ipykernel)",
   "language": "python",
   "name": "python3"
  },
  "language_info": {
   "codemirror_mode": {
    "name": "ipython",
    "version": 3
   },
   "file_extension": ".py",
   "mimetype": "text/x-python",
   "name": "python",
   "nbconvert_exporter": "python",
   "pygments_lexer": "ipython3",
   "version": "3.9.12"
  }
 },
 "nbformat": 4,
 "nbformat_minor": 5
}
